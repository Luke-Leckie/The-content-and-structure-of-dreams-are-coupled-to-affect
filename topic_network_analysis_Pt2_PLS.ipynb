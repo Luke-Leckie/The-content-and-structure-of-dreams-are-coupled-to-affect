{
 "cells": [
  {
   "cell_type": "markdown",
   "metadata": {},
   "source": [
    "By Luke Leckie. Code for publication entitled \"The content and structure of dreams are coupled to affect \""
   ]
  },
  {
   "cell_type": "code",
   "execution_count": 15,
   "metadata": {},
   "outputs": [],
   "source": [
    "import matplotlib.pyplot as plt\n",
    "import matplotlib.colors as mcolors\n",
    "import matplotlib.gridspec as gridspec\n",
    "import seaborn as sns\n",
    "import pandas as pd\n",
    "import cython\n",
    "import pickle\n",
    "from gensim.models import Word2Vec, KeyedVectors\n",
    "from sklearn.metrics.pairwise import cosine_similarity, linear_kernel\n",
    "from sklearn.preprocessing import normalize\n",
    "import numpy as np\n",
    "import networkx as nx\n",
    "%matplotlib inline\n",
    "import semantic_network_functions as sn\n"
   ]
  },
  {
   "cell_type": "code",
   "execution_count": 16,
   "metadata": {},
   "outputs": [],
   "source": [
    "#Load in model and corpus\n",
    "direc='/home/ll16598/Documents/altered_states/2024/'\n",
    "corpus_cleaned = pd.read_csv(direc+f\"corpus_results_130_DI_cosine.csv\") \n"
   ]
  },
  {
   "cell_type": "code",
   "execution_count": 17,
   "metadata": {},
   "outputs": [],
   "source": [
    "#HVdC subset data\n",
    "corpus_cleaned_sub=corpus_cleaned[corpus_cleaned['dreamer'].isin(['norms-f','norms-m'])]\n",
    "corpus_cleaned_sub_m=corpus_cleaned[corpus_cleaned['dreamer'].isin(['norms-m'])]\n",
    "corpus_cleaned_sub_f=corpus_cleaned[corpus_cleaned['dreamer'].isin(['norms-f'])]"
   ]
  },
  {
   "cell_type": "markdown",
   "metadata": {},
   "source": [
    "These are the properties we want to perform our PLS with. 1 is where we take valence as a response and 2 is where we take arousal as a response."
   ]
  },
  {
   "cell_type": "code",
   "execution_count": 18,
   "metadata": {},
   "outputs": [],
   "source": [
    "columns_to_plot1 = ['Arousal','Cosine path','Cosine mod.','Std. coherence','Mean coherence','Topic path','Efficiency','Nodes','Clustering', 'Feedback loops', 'Degree het.','Transitivity', 'Gini', 'Modularity']\n",
    "columns_to_plot2 = ['Valence','Cosine path','Cosine mod.','Std. coherence','Mean coherence','Topic path','Efficiency','Nodes','Clustering', 'Feedback loops', 'Degree het.','Transitivity', 'Gini', 'Modularity']\n"
   ]
  },
  {
   "cell_type": "markdown",
   "metadata": {},
   "source": [
    "First we will evaluate what is the optimal number of components to use in our model. This is assesses in cross-validation for the larger data and Leave-one-out for the smallest subsets."
   ]
  },
  {
   "cell_type": "code",
   "execution_count": 6,
   "metadata": {},
   "outputs": [
    {
     "name": "stdout",
     "output_type": "stream",
     "text": [
      "median_Valence\n",
      "Components: 1 R2: 0.09711666532001118\n",
      "Components: 2 R2: 0.10621503722275258\n",
      "Components: 3 R2: 0.1141838828874723\n",
      "Components: 4 R2: 0.11452427648432469\n",
      "Components: 5 R2: 0.11473602015534065\n",
      "Components: 6 R2: 0.11469088623561033\n",
      "Components: 7 R2: 0.11472185003041924\n",
      "Components: 8 R2: 0.11481935867584267\n",
      "Components: 9 R2: 0.11478580608355318\n",
      "median_Arousal\n",
      "Components: 1 R2: 0.30758757445657114\n",
      "Components: 2 R2: 0.3115086310326861\n",
      "Components: 3 R2: 0.31302263711388256\n",
      "Components: 4 R2: 0.31323547201151747\n",
      "Components: 5 R2: 0.3134039153944304\n",
      "Components: 6 R2: 0.31365747552499795\n",
      "Components: 7 R2: 0.31389182081984834\n",
      "Components: 8 R2: 0.3139572075207718\n",
      "Components: 9 R2: 0.3139810837347107\n"
     ]
    }
   ],
   "source": [
    "for i, df in enumerate([corpus_cleaned]):#, corpus_cleaned_sub, corpus_cleaned_sub_f, corpus_cleaned_sub_m]):\n",
    "    df['Valence']=df['median_Valence']\n",
    "    df['Arousal']=df['median_Arousal']\n",
    "    params=['median_Valence', 'median_Arousal']\n",
    "    cols=[columns_to_plot1,columns_to_plot2]\n",
    "    for k, param in enumerate(params):\n",
    "        print(param)\n",
    "        col=cols[k]\n",
    "        if i in [0,1]:\n",
    "            sn.get_optimal_components_via_cv(df, col,param, n_splits=5)\n",
    "        else:\n",
    "            sn.get_optimal_components_via_loo(df, col,param)\n"
   ]
  },
  {
   "cell_type": "markdown",
   "metadata": {},
   "source": [
    "Just setting aesthetic plotting parameters"
   ]
  },
  {
   "cell_type": "code",
   "execution_count": 7,
   "metadata": {},
   "outputs": [
    {
     "name": "stderr",
     "output_type": "stream",
     "text": [
      "/tmp/ipykernel_370044/619328245.py:20: MatplotlibDeprecationWarning: The get_cmap function was deprecated in Matplotlib 3.7 and will be removed two minor releases later. Use ``matplotlib.colormaps[name]`` or ``matplotlib.colormaps.get_cmap(obj)`` instead.\n",
      "  coolwarm = plt.cm.get_cmap('coolwarm')\n"
     ]
    }
   ],
   "source": [
    "tick_length=1\n",
    "linewidth=1\n",
    "pointwidth = 0.7\n",
    "linewidth2 = 1\n",
    "linewidth3 = 1\n",
    "linalpha=0.8\n",
    "figwidth= 7.0866\n",
    "panels=2\n",
    "figheight=((figwidth*panels)/3.333)*1\n",
    "figwidth=figwidth/2.6\n",
    "lincolor='black'\n",
    "labsize=7\n",
    "titlesize=10\n",
    "alpha=0.9 #0.7 #0.1 for sim\n",
    "pointsize=2\n",
    "barwidth=0.57\n",
    "barcol='#6baed6'\n",
    "barcols=list(['#482677ff','#482677ff','#6baed6','#6baed6','#6baed6','#6baed6','#35be1e','#35be1e','#35be1e','#35be1e', '#35be1e', '#35be1e'])\n",
    "barcols=list(['#FDE725FF', '#482677ff'])\n",
    "coolwarm = plt.cm.get_cmap('coolwarm')\n",
    "barcols2=[coolwarm(1.0), coolwarm(0.0)]\n",
    "al=0.35\n",
    "alphas1=list([al,al,1,1,al,al,al,al,1,1,1,1])\n",
    "alphas2=list([1,1,1,1,1,1,1,1,1,1,1,1,1])\n",
    "starsize=6.8\n",
    "labsize=5.7\n",
    "linewidth_bar=0.7\n",
    "p_push1=0.00003\n",
    "p_push2=0.0011\n",
    "starsize=7.5\n",
    "savefig=False\n",
    "dir_fig_save='/home/ll16598/Documents/altered_states/2024/plots/'\n",
    "dir_pls_save='/home/ll16598/Documents/altered_states/2024/pls_coeffs/'"
   ]
  },
  {
   "cell_type": "markdown",
   "metadata": {},
   "source": [
    "Now we just perform our selected PLS model and plot."
   ]
  },
  {
   "cell_type": "code",
   "execution_count": 9,
   "metadata": {},
   "outputs": [
    {
     "name": "stdout",
     "output_type": "stream",
     "text": [
      "          Variable  Coefficients  P-Values\n",
      "0   Std. coherence      0.006878  0.000000\n",
      "1   Mean coherence      0.005380  0.000000\n",
      "2      Cosine mod.      0.001289  0.000000\n",
      "3       Modularity      0.001170  0.000000\n",
      "4       Topic path      0.000495  0.030154\n",
      "5      Cosine path      0.000492  0.030154\n",
      "6       Efficiency     -0.000432  0.021000\n",
      "7   Feedback loops     -0.000469  0.070000\n",
      "8       Clustering     -0.000564  0.024182\n",
      "9     Transitivity     -0.000803  0.009333\n",
      "10           Nodes     -0.001145  0.000000\n",
      "11     Degree het.     -0.001829  0.000000\n",
      "12            Gini     -0.001962  0.000000\n",
      "13         Arousal     -0.013538  0.000000\n"
     ]
    },
    {
     "name": "stderr",
     "output_type": "stream",
     "text": [
      "/tmp/ipykernel_370044/1585274011.py:31: UserWarning: FixedFormatter should only be used together with FixedLocator\n",
      "  axs.set_xticklabels(labels, rotation=45, ha='right', fontsize=labsize)\n"
     ]
    },
    {
     "name": "stdout",
     "output_type": "stream",
     "text": [
      "          Variable  Coefficients  P-Values\n",
      "0            Nodes      0.003504  0.000000\n",
      "1      Degree het.      0.002176  0.000000\n",
      "2             Gini      0.002017  0.000000\n",
      "3      Cosine mod.      0.000733  0.012444\n",
      "4       Clustering      0.000539  0.168000\n",
      "5       Modularity      0.000191  0.726000\n",
      "6       Topic path     -0.000146  0.726000\n",
      "7      Cosine path     -0.000155  0.726000\n",
      "8     Transitivity     -0.001031  0.023800\n",
      "9       Efficiency     -0.001511  0.000000\n",
      "10  Feedback loops     -0.001512  0.000000\n",
      "11         Valence     -0.024979  0.000000\n",
      "12  Std. coherence     -0.025839  0.000000\n",
      "13  Mean coherence     -0.032697  0.000000\n"
     ]
    },
    {
     "name": "stderr",
     "output_type": "stream",
     "text": [
      "/tmp/ipykernel_370044/1585274011.py:31: UserWarning: FixedFormatter should only be used together with FixedLocator\n",
      "  axs.set_xticklabels(labels, rotation=45, ha='right', fontsize=labsize)\n"
     ]
    },
    {
     "data": {
      "image/png": "[encoded data removed]",
      "text/plain": [
       "<Figure size 450x250 with 2 Axes>"
      ]
     },
     "metadata": {},
     "output_type": "display_data"
    }
   ],
   "source": [
    "subset=False #Used HVdC subset data\n",
    "savefig=False #Save data\n",
    "savedat=False #Save coefficients\n",
    "if subset:\n",
    "    df=corpus_cleaned_sub\n",
    "else:\n",
    "    df=corpus_cleaned\n",
    "comps=[1,1] #Number of components for valence and for arousal\n",
    "params=['Valence', 'Arousal']\n",
    "cols=[columns_to_plot1,columns_to_plot2]\n",
    "fig, axes = plt.subplots(1, 2, figsize=(4.5, 2.5))  # 1 row, 2 columns\n",
    "axes=axes.flatten()\n",
    "for k, param in enumerate(params):\n",
    "    df['Valence']=df['median_Valence']\n",
    "    df['Arousal']=df['median_Arousal']\n",
    "    axs=axes[k]\n",
    "    col=cols[k]\n",
    "    result = sn.get_pls_coefficients(df, col,param,optimal_components=comps[k],n_permutations=1000)\n",
    "    result=result.sort_values(by='Coefficients', ascending=False).reset_index(drop=True)\n",
    "    print(result)\n",
    "    p_values = result['P-Values']\n",
    "    loadings = result['Coefficients']\n",
    "    labels = result['Variable']\n",
    "    if savedat and subset:\n",
    "        result.to_csv(dir_pls_save+f'pls_combined_HVdC.csv')\n",
    "    elif savedat:\n",
    "        result.to_csv(dir_pls_save+f'pls_combined.csv')\n",
    "    x = np.arange(len(labels))\n",
    "    axs.bar(x - 0.2, loadings, 0.4, label='All', align='center')\n",
    "    axs.set_xticklabels(labels, rotation=45, ha='right', fontsize=labsize)\n",
    "    for bs in range(0, len(axs.patches)):\n",
    "        bar=axs.patches[bs]\n",
    "        pv=p_values[bs]\n",
    "        old_width = bar.get_width()\n",
    "        diff = (old_width - barwidth) / 2\n",
    "        val=bar.get_height()\n",
    "        if k==0:\n",
    "            if val>0:\n",
    "                bc=barcols[0]\n",
    "            else:\n",
    "                bc=barcols[1]\n",
    "        else:\n",
    "            if val>0:\n",
    "                bc=barcols2[0]\n",
    "            else:\n",
    "                bc=barcols2[1]\n",
    "        bar.set_linewidth(linewidth_bar)\n",
    "        bar.set_width(barwidth)\n",
    "        bar.set_x(bar.get_x() + diff)\n",
    "        bar.set_color(bc)\n",
    "        bar.set_edgecolor('black')\n",
    "        height=bar.get_height()\n",
    "        if height>0:\n",
    "            height=height+p_push1\n",
    "        else:\n",
    "            height=height-p_push2\n",
    "        if p_values[bs]>0.05:\n",
    "            bar.set_alpha(0.5)\n",
    "        if bs!=len(axs.patches)-1:\n",
    "            if height<-0.008:\n",
    "                continue\n",
    "            significance_code = '***' if pv <= 0.0001 else '***' if pv <= 0.001 else '**' if pv <= 0.01 else '*' if pv <= 0.05 else '.' if pv <= 0.1 else ''\n",
    "            if height>0:\n",
    "                axs.text(bar.get_x()+bar.get_width()-0.01, height+0.0002, significance_code, va='bottom', fontsize=starsize, \\\n",
    "                         color='black', rotation=90, ha='center')\n",
    "            else:\n",
    "                axs.text(bar.get_x()+bar.get_width()-0.01, height+0.00105, significance_code, va='top', fontsize=starsize, \\\n",
    "                         color='black', rotation=90, ha='center')\n",
    "        axs.set_xticks(x)\n",
    "        axs.set_xticklabels(labels, rotation=45, ha='right', fontsize =labsize)\n",
    "        axs.tick_params(axis='y', labelsize=labsize)\n",
    "        axs.axhline(0, color='black', linestyle='-', linewidth=linewidth)\n",
    "        axs.spines['right'].set_visible(False)\n",
    "        axs.spines['top'].set_visible(False)\n",
    "        axs.spines['left'].set_linewidth(linewidth)\n",
    "        axs.spines['left'].set_color(lincolor)\n",
    "        axs.spines['bottom'].set_linewidth(linewidth)\n",
    "        axs.spines['bottom'].set_color(lincolor)\n",
    "        axs.set_ylim(-0.00611, 0.00611)\n",
    "        axs.set_ylim(-0.00811, 0.00811)\n",
    "        if k==0:\n",
    "            axs.set_ylabel('PLS coefficient',fontsize=titlesize)\n",
    "        else:\n",
    "            axs.set_ylabel('',fontsize=titlesize)\n",
    "            axs.set_yticklabels([])\n",
    "        for line in axs.lines:\n",
    "            line.set_linewidth(linewidth3)\n",
    "        axs.axhline(0, color='black', linewidth=linewidth)\n",
    "plt.subplots_adjust(wspace=0.05, hspace=0.5)\n",
    "fig.text(0.51, -0.2, 'Network property', ha='center', rotation=0, fontsize=titlesize, fontweight='normal')\n",
    "if savefig:\n",
    "    plt.savefig(dir_fig_save+f'pls_figure.png', dpi=800,  bbox_inches='tight')\n"
   ]
  }
 ],
 "metadata": {
  "kernelspec": {
   "display_name": "Python 3 (ipykernel)",
   "language": "python",
   "name": "python3"
  },
  "language_info": {
   "codemirror_mode": {
    "name": "ipython",
    "version": 3
   },
   "file_extension": ".py",
   "mimetype": "text/x-python",
   "name": "python",
   "nbconvert_exporter": "python",
   "pygments_lexer": "ipython3",
   "version": "3.8.13"
  }
 },
 "nbformat": 4,
 "nbformat_minor": 2
}
